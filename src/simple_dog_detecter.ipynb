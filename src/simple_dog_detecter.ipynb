{
 "cells": [
  {
   "cell_type": "code",
   "execution_count": 2,
   "metadata": {},
   "outputs": [],
   "source": [
    "import torch\n",
    "import torch.nn as nn\n",
    "import torch.optim as optim\n",
    "import torchvision.datasets as datasets\n",
    "import torchvision.transforms as transforms\n",
    "from torch.utils.data import DataLoader\n",
    "import matplotlib.pyplot as plt\n",
    "import numpy as np\n",
    "import pandas as pd\n",
    "import warnings"
   ]
  },
  {
   "cell_type": "code",
   "execution_count": 3,
   "metadata": {},
   "outputs": [],
   "source": [
    "plt.rcParams['font.size'] = 14\n",
    "warnings.simplefilter('ignore')"
   ]
  },
  {
   "cell_type": "code",
   "execution_count": 4,
   "metadata": {},
   "outputs": [
    {
     "name": "stdout",
     "output_type": "stream",
     "text": [
      "cuda:0\n"
     ]
    }
   ],
   "source": [
    "device = torch.device('cuda:0' if torch.cuda.is_available() else 'cpu')\n",
    "print(device)"
   ]
  },
  {
   "cell_type": "code",
   "execution_count": 14,
   "metadata": {},
   "outputs": [
    {
     "name": "stdout",
     "output_type": "stream",
     "text": [
      "Common Library for PyTorch\n",
      "Author: M. Akaishi\n"
     ]
    }
   ],
   "source": [
    "# シンボリックリンクによって別階層のファイルをimportする\n",
    "from pythonlibs.torch_lib1 import *\n",
    "print(README)"
   ]
  },
  {
   "cell_type": "code",
   "execution_count": 22,
   "metadata": {},
   "outputs": [
    {
     "name": "stdout",
     "output_type": "stream",
     "text": [
      "\u001b[01;34mpythonlibs/images/dog_wolf\u001b[0m\n",
      "├── \u001b[01;34mtest\u001b[0m\n",
      "│   ├── \u001b[01;34mdog\u001b[0m\n",
      "│   │   ├── \u001b[00mdog-21.png\u001b[0m\n",
      "│   │   ├── \u001b[00mdog-22.png\u001b[0m\n",
      "│   │   ├── \u001b[00mdog-23.png\u001b[0m\n",
      "│   │   ├── \u001b[00mdog-24.png\u001b[0m\n",
      "│   │   └── \u001b[00mdog-25.png\u001b[0m\n",
      "│   └── \u001b[01;34mwolf\u001b[0m\n",
      "│       ├── \u001b[00mwolf-21.png\u001b[0m\n",
      "│       ├── \u001b[00mwolf-22.png\u001b[0m\n",
      "│       ├── \u001b[00mwolf-23.png\u001b[0m\n",
      "│       ├── \u001b[00mwolf-24.png\u001b[0m\n",
      "│       └── \u001b[00mwolf-25.png\u001b[0m\n",
      "└── \u001b[01;34mtrain\u001b[0m\n",
      "    ├── \u001b[01;34mdog\u001b[0m\n",
      "    │   ├── \u001b[00mdog-01.png\u001b[0m\n",
      "    │   ├── \u001b[00mdog-02.png\u001b[0m\n",
      "    │   ├── \u001b[00mdog-03.png\u001b[0m\n",
      "    │   ├── \u001b[00mdog-04.png\u001b[0m\n",
      "    │   ├── \u001b[00mdog-05.png\u001b[0m\n",
      "    │   ├── \u001b[00mdog-06.png\u001b[0m\n",
      "    │   ├── \u001b[00mdog-07.png\u001b[0m\n",
      "    │   ├── \u001b[00mdog-08.png\u001b[0m\n",
      "    │   ├── \u001b[00mdog-09.png\u001b[0m\n",
      "    │   ├── \u001b[00mdog-10.png\u001b[0m\n",
      "    │   ├── \u001b[00mdog-11.png\u001b[0m\n",
      "    │   ├── \u001b[00mdog-12.png\u001b[0m\n",
      "    │   ├── \u001b[00mdog-13.png\u001b[0m\n",
      "    │   ├── \u001b[00mdog-14.png\u001b[0m\n",
      "    │   ├── \u001b[00mdog-15.png\u001b[0m\n",
      "    │   ├── \u001b[00mdog-16.png\u001b[0m\n",
      "    │   ├── \u001b[00mdog-17.png\u001b[0m\n",
      "    │   ├── \u001b[00mdog-18.png\u001b[0m\n",
      "    │   ├── \u001b[00mdog-19.png\u001b[0m\n",
      "    │   └── \u001b[00mdog-20.png\u001b[0m\n",
      "    └── \u001b[01;34mwolf\u001b[0m\n",
      "        ├── \u001b[00mwolf-01.png\u001b[0m\n",
      "        ├── \u001b[00mwolf-02.png\u001b[0m\n",
      "        ├── \u001b[00mwolf-03.png\u001b[0m\n",
      "        ├── \u001b[00mwolf-04.png\u001b[0m\n",
      "        ├── \u001b[00mwolf-05.png\u001b[0m\n",
      "        ├── \u001b[00mwolf-06.png\u001b[0m\n",
      "        ├── \u001b[00mwolf-07.png\u001b[0m\n",
      "        ├── \u001b[00mwolf-08.png\u001b[0m\n",
      "        ├── \u001b[00mwolf-09.png\u001b[0m\n",
      "        ├── \u001b[00mwolf-10.png\u001b[0m\n",
      "        ├── \u001b[00mwolf-11.png\u001b[0m\n",
      "        ├── \u001b[00mwolf-12.png\u001b[0m\n",
      "        ├── \u001b[00mwolf-13.png\u001b[0m\n",
      "        ├── \u001b[00mwolf-14.png\u001b[0m\n",
      "        ├── \u001b[00mwolf-15.png\u001b[0m\n",
      "        ├── \u001b[00mwolf-16.png\u001b[0m\n",
      "        ├── \u001b[00mwolf-17.png\u001b[0m\n",
      "        ├── \u001b[00mwolf-18.png\u001b[0m\n",
      "        ├── \u001b[00mwolf-19.png\u001b[0m\n",
      "        └── \u001b[00mwolf-20.png\u001b[0m\n",
      "\n",
      "6 directories, 50 files\n"
     ]
    }
   ],
   "source": [
    "!tree pythonlibs/images/dog_wolf"
   ]
  },
  {
   "cell_type": "code",
   "execution_count": null,
   "metadata": {},
   "outputs": [],
   "source": [
    "# 事前学習済みモデルを利用したモデル構築\n",
    "from torchvision import models\n",
    "net = models.vgg19_bn(pretrained=True)\n",
    "\n",
    "# 転移学習のためのrequires_gradをFalseに設定\n",
    "for param in net.parameters():\n",
    "    param.requires_grad = False\n",
    "\n",
    "# 乱数初期化\n",
    "torch_seed()\n",
    "\n",
    "# 最終ノードの出力を2に変更\n",
    "in_features = net.classifier[6].in_features\n",
    "net.classifier[6] = nn.Linear(in_features, 2)\n",
    "\n",
    "# AdaptiveAvgPool2d関数の取り外し\n",
    "net.avgpool = nn.Identity()\n",
    "\n",
    "# GPU利用\n",
    "net = net.to(device)\n",
    "\n",
    "# 学習率\n",
    "lr = 0.001\n",
    "\n",
    "# 損失関数\n",
    "criterion = nn.CrossEntropyLoss()\n",
    "\n",
    "# 最適化関数の定義\n",
    "# パラメータ修正の対象を最終ノードに限定\n",
    "optimizer = optim.SGD(net.classifier[6].parameters(), lr=lr, momentum=0.9)\n",
    "\n",
    "# historyファイルの初期化\n",
    "history = np.zeros((0, 5))\n",
    "\n",
    "# 繰り返し回数\n",
    "num_epochs = 10\n",
    "\n",
    "# 学習\n",
    "history = fit(net, optimizer, criterion, num_epochs, train_loader, test_loader, device, history)"
   ]
  }
 ],
 "metadata": {
  "kernelspec": {
   "display_name": "Python 3",
   "language": "python",
   "name": "python3"
  },
  "language_info": {
   "codemirror_mode": {
    "name": "ipython",
    "version": 3
   },
   "file_extension": ".py",
   "mimetype": "text/x-python",
   "name": "python",
   "nbconvert_exporter": "python",
   "pygments_lexer": "ipython3",
   "version": "3.10.12"
  }
 },
 "nbformat": 4,
 "nbformat_minor": 2
}
