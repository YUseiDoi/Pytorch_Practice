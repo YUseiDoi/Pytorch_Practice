{
 "cells": [
  {
   "cell_type": "code",
   "execution_count": 2,
   "metadata": {},
   "outputs": [],
   "source": [
    "import torch\n",
    "import torch.nn as nn"
   ]
  },
  {
   "cell_type": "code",
   "execution_count": 3,
   "metadata": {},
   "outputs": [],
   "source": [
    "# レイヤー関数定義\n",
    "\n",
    "# 最初の線形関数（入力数 784, 出力数 128）\n",
    "l1 = nn.Linear(784, 128)\n",
    "\n",
    "# 次の線形関数（入力数 128, 出力数 10）\n",
    "l2 = nn.Linear(128, 10)\n",
    "\n",
    "# 活性化関数（ReLU）\n",
    "relu = nn.ReLU(inplace=True)"
   ]
  },
  {
   "cell_type": "code",
   "execution_count": 5,
   "metadata": {},
   "outputs": [
    {
     "name": "stdout",
     "output_type": "stream",
     "text": [
      "入力テンソル： torch.Size([100, 784])\n",
      "l1 出力テンソル： torch.Size([100, 10])\n"
     ]
    }
   ],
   "source": [
    "# 入力テンソルから出力テンソルを計算\n",
    "inputs = torch.randn(100, 784)\n",
    "\n",
    "m1 = l1(inputs)\n",
    "\n",
    "m2 = relu(m1)\n",
    "\n",
    "outputs = l2(m2)\n",
    "\n",
    "print('入力テンソル：', inputs.shape)\n",
    "print('l1 出力テンソル：', outputs.shape)"
   ]
  },
  {
   "cell_type": "code",
   "execution_count": 6,
   "metadata": {},
   "outputs": [
    {
     "name": "stdout",
     "output_type": "stream",
     "text": [
      "入力テンソル： torch.Size([100, 784])\n",
      "l1 出力テンソル： torch.Size([100, 10])\n"
     ]
    }
   ],
   "source": [
    "# 直線状に繋がるレイヤー関数はnn.Sequentialでまとめることができる\n",
    "net2 = nn.Sequential(\n",
    "    l1,\n",
    "    relu,\n",
    "    l2\n",
    ")\n",
    "\n",
    "outputs2 = net2(inputs)\n",
    "\n",
    "print('入力テンソル：', inputs.shape)\n",
    "print('l1 出力テンソル：', outputs.shape)"
   ]
  },
  {
   "cell_type": "code",
   "execution_count": null,
   "metadata": {},
   "outputs": [],
   "source": []
  }
 ],
 "metadata": {
  "kernelspec": {
   "display_name": "Python 3",
   "language": "python",
   "name": "python3"
  },
  "language_info": {
   "codemirror_mode": {
    "name": "ipython",
    "version": 3
   },
   "file_extension": ".py",
   "mimetype": "text/x-python",
   "name": "python",
   "nbconvert_exporter": "python",
   "pygments_lexer": "ipython3",
   "version": "3.10.12"
  }
 },
 "nbformat": 4,
 "nbformat_minor": 2
}
