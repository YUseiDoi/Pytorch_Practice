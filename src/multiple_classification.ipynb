{
 "cells": [
  {
   "cell_type": "code",
   "execution_count": 3,
   "metadata": {},
   "outputs": [],
   "source": [
    "import torch\n",
    "import torch.nn as nn\n",
    "import torch.optim as optim\n",
    "import numpy as np\n",
    "from sklearn.datasets import load_iris\n",
    "from sklearn.model_selection import train_test_split\n",
    "import matplotlib.pyplot as plt\n",
    "from torchinfo import summary\n",
    "import torch.optim as optim\n",
    "from torchviz import make_dot"
   ]
  },
  {
   "cell_type": "code",
   "execution_count": 4,
   "metadata": {},
   "outputs": [
    {
     "name": "stdout",
     "output_type": "stream",
     "text": [
      "元データ (150, 4) (150,)\n"
     ]
    }
   ],
   "source": [
    "iris = load_iris()\n",
    "x_org, y_org = iris.data, iris.target\n",
    "print('元データ', x_org.shape, y_org.shape)"
   ]
  },
  {
   "cell_type": "code",
   "execution_count": 5,
   "metadata": {},
   "outputs": [
    {
     "name": "stdout",
     "output_type": "stream",
     "text": [
      "抽出データ (150, 2) (150,)\n"
     ]
    }
   ],
   "source": [
    "# 2値分類のため、元データから2クラスのデータを抽出\n",
    "x_data = iris.data[:, [0,2]]\n",
    "y_data = iris.target[:]\n",
    "\n",
    "print('抽出データ', x_data.shape, y_data.shape)"
   ]
  },
  {
   "cell_type": "code",
   "execution_count": 7,
   "metadata": {},
   "outputs": [
    {
     "name": "stdout",
     "output_type": "stream",
     "text": [
      "(150, 2) (150,)\n",
      "(75, 2) (75,) (75, 2) (75,)\n"
     ]
    }
   ],
   "source": [
    "# データを訓練データとテストデータに分割\n",
    "print(x_data.shape, y_data.shape)\n",
    "\n",
    "x_train, x_test, y_train, y_test = train_test_split(x_data, y_data, train_size=75, test_size=75, random_state=123)\n",
    "print(x_train.shape, y_train.shape, x_test.shape, y_test.shape)"
   ]
  },
  {
   "cell_type": "code",
   "execution_count": 8,
   "metadata": {},
   "outputs": [
    {
     "data": {
      "text/plain": [
       "<matplotlib.legend.Legend at 0x7f4bab964f10>"
      ]
     },
     "execution_count": 8,
     "metadata": {},
     "output_type": "execute_result"
    },
    {
     "data": {
      "image/png": "[encoded data removed]",
      "text/plain": [
       "<Figure size 640x480 with 1 Axes>"
      ]
     },
     "metadata": {},
     "output_type": "display_data"
    }
   ],
   "source": [
    "# 散布図の表示\n",
    "x_t0 = x_train[y_train == 0]\n",
    "x_t1 = x_train[y_train == 1]\n",
    "x_t2 = x_train[y_train == 2]\n",
    "plt.scatter(x_t0[:, 0], x_t0[:, 1], label='0 (setosa)', marker='x', c='b')\n",
    "plt.scatter(x_t1[:, 0], x_t1[:, 1], label='1 (versicolor)', marker='o', c='k')\n",
    "plt.scatter(x_t2[:, 0], x_t2[:, 1], label='2 (virginica)', marker='v', c='g')\n",
    "plt.xlabel('Sepal length')\n",
    "plt.ylabel('Sepal width')\n",
    "plt.legend()"
   ]
  },
  {
   "cell_type": "code",
   "execution_count": 10,
   "metadata": {},
   "outputs": [
    {
     "name": "stdout",
     "output_type": "stream",
     "text": [
      "n_input: 2, n_output: 3\n"
     ]
    }
   ],
   "source": [
    "n_input = x_train.shape[1]\n",
    "n_output = len(list(set(y_train)))\n",
    "print(f'n_input: {n_input}, n_output: {n_output}')\n"
   ]
  },
  {
   "cell_type": "code",
   "execution_count": 12,
   "metadata": {},
   "outputs": [],
   "source": [
    "class Net(nn.Module):\n",
    "    def __init__(self, n_input, n_output):\n",
    "        super().__init__()\n",
    "        self.l1 = nn.Linear(n_input, n_output)\n",
    "\n",
    "        self.l1.weight.data.fill_(1.0)\n",
    "        self.l1.bias.data.fill_(1.0)\n",
    "    \n",
    "    def forward(self, x):\n",
    "        x1 = self.l1(x)\n",
    "        return x1\n",
    "\n",
    "net = Net(n_input, n_output)"
   ]
  },
  {
   "cell_type": "code",
   "execution_count": 13,
   "metadata": {},
   "outputs": [
    {
     "name": "stdout",
     "output_type": "stream",
     "text": [
      "('l1.weight', Parameter containing:\n",
      "tensor([[1., 1.],\n",
      "        [1., 1.],\n",
      "        [1., 1.]], requires_grad=True))\n",
      "('l1.bias', Parameter containing:\n",
      "tensor([1., 1., 1.], requires_grad=True))\n"
     ]
    }
   ],
   "source": [
    "for parameter in net.named_parameters():\n",
    "    print(parameter)"
   ]
  },
  {
   "cell_type": "code",
   "execution_count": 14,
   "metadata": {},
   "outputs": [],
   "source": [
    "criterion = nn.CrossEntropyLoss()\n",
    "\n",
    "lr = 0.01\n",
    "\n",
    "optimizer = optim.SGD(net.parameters(), lr=lr)"
   ]
  },
  {
   "cell_type": "code",
   "execution_count": 15,
   "metadata": {},
   "outputs": [],
   "source": [
    "inputs_train = torch.tensor(x_train).float()\n",
    "labels_train = torch.tensor(y_train).long()\n",
    "\n",
    "inputs_test = torch.tensor(x_test).float()\n",
    "labels_test = torch.tensor(y_test).long()"
   ]
  },
  {
   "cell_type": "code",
   "execution_count": 16,
   "metadata": {},
   "outputs": [
    {
     "data": {
      "image/svg+xml": [
       "<?xml version=\"1.0\" encoding=\"UTF-8\" standalone=\"no\"?>\n",
       "<!DOCTYPE svg PUBLIC \"-//W3C//DTD SVG 1.1//EN\"\n",
       " \"http://www.w3.org/Graphics/SVG/1.1/DTD/svg11.dtd\">\n",
       "<!-- Generated by graphviz version 2.43.0 (0)\n",
       " -->\n",
       "<!-- Title: %3 Pages: 1 -->\n",
       "<svg width=\"216pt\" height=\"391pt\"\n",
       " viewBox=\"0.00 0.00 216.00 391.00\" xmlns=\"http://www.w3.org/2000/svg\" xmlns:xlink=\"http://www.w3.org/1999/xlink\">\n",
       "<g id=\"graph0\" class=\"graph\" transform=\"scale(1 1) rotate(0) translate(4 387)\">\n",
       "<title>%3</title>\n",
       "<polygon fill=\"white\" stroke=\"transparent\" points=\"-4,4 -4,-387 212,-387 212,4 -4,4\"/>\n",
       "<!-- 139962943719040 -->\n",
       "<g id=\"node1\" class=\"node\">\n",
       "<title>139962943719040</title>\n",
       "<polygon fill=\"#caff70\" stroke=\"black\" points=\"130.5,-31 76.5,-31 76.5,0 130.5,0 130.5,-31\"/>\n",
       "<text text-anchor=\"middle\" x=\"103.5\" y=\"-7\" font-family=\"monospace\" font-size=\"10.00\"> ()</text>\n",
       "</g>\n",
       "<!-- 139962918987104 -->\n",
       "<g id=\"node2\" class=\"node\">\n",
       "<title>139962918987104</title>\n",
       "<polygon fill=\"lightgrey\" stroke=\"black\" points=\"160,-86 47,-86 47,-67 160,-67 160,-86\"/>\n",
       "<text text-anchor=\"middle\" x=\"103.5\" y=\"-74\" font-family=\"monospace\" font-size=\"10.00\">NllLossBackward0</text>\n",
       "</g>\n",
       "<!-- 139962918987104&#45;&gt;139962943719040 -->\n",
       "<g id=\"edge8\" class=\"edge\">\n",
       "<title>139962918987104&#45;&gt;139962943719040</title>\n",
       "<path fill=\"none\" stroke=\"black\" d=\"M103.5,-66.79C103.5,-60.07 103.5,-50.4 103.5,-41.34\"/>\n",
       "<polygon fill=\"black\" stroke=\"black\" points=\"107,-41.19 103.5,-31.19 100,-41.19 107,-41.19\"/>\n",
       "</g>\n",
       "<!-- 139962918993392 -->\n",
       "<g id=\"node3\" class=\"node\">\n",
       "<title>139962918993392</title>\n",
       "<polygon fill=\"lightgrey\" stroke=\"black\" points=\"169,-141 38,-141 38,-122 169,-122 169,-141\"/>\n",
       "<text text-anchor=\"middle\" x=\"103.5\" y=\"-129\" font-family=\"monospace\" font-size=\"10.00\">LogSoftmaxBackward0</text>\n",
       "</g>\n",
       "<!-- 139962918993392&#45;&gt;139962918987104 -->\n",
       "<g id=\"edge1\" class=\"edge\">\n",
       "<title>139962918993392&#45;&gt;139962918987104</title>\n",
       "<path fill=\"none\" stroke=\"black\" d=\"M103.5,-121.75C103.5,-114.8 103.5,-104.85 103.5,-96.13\"/>\n",
       "<polygon fill=\"black\" stroke=\"black\" points=\"107,-96.09 103.5,-86.09 100,-96.09 107,-96.09\"/>\n",
       "</g>\n",
       "<!-- 139962943265936 -->\n",
       "<g id=\"node4\" class=\"node\">\n",
       "<title>139962943265936</title>\n",
       "<polygon fill=\"lightgrey\" stroke=\"black\" points=\"154,-196 53,-196 53,-177 154,-177 154,-196\"/>\n",
       "<text text-anchor=\"middle\" x=\"103.5\" y=\"-184\" font-family=\"monospace\" font-size=\"10.00\">AddmmBackward0</text>\n",
       "</g>\n",
       "<!-- 139962943265936&#45;&gt;139962918993392 -->\n",
       "<g id=\"edge2\" class=\"edge\">\n",
       "<title>139962943265936&#45;&gt;139962918993392</title>\n",
       "<path fill=\"none\" stroke=\"black\" d=\"M103.5,-176.75C103.5,-169.8 103.5,-159.85 103.5,-151.13\"/>\n",
       "<polygon fill=\"black\" stroke=\"black\" points=\"107,-151.09 103.5,-141.09 100,-151.09 107,-151.09\"/>\n",
       "</g>\n",
       "<!-- 139962943272944 -->\n",
       "<g id=\"node5\" class=\"node\">\n",
       "<title>139962943272944</title>\n",
       "<polygon fill=\"lightgrey\" stroke=\"black\" points=\"101,-251 0,-251 0,-232 101,-232 101,-251\"/>\n",
       "<text text-anchor=\"middle\" x=\"50.5\" y=\"-239\" font-family=\"monospace\" font-size=\"10.00\">AccumulateGrad</text>\n",
       "</g>\n",
       "<!-- 139962943272944&#45;&gt;139962943265936 -->\n",
       "<g id=\"edge3\" class=\"edge\">\n",
       "<title>139962943272944&#45;&gt;139962943265936</title>\n",
       "<path fill=\"none\" stroke=\"black\" d=\"M59.25,-231.75C66.97,-224.03 78.4,-212.6 87.72,-203.28\"/>\n",
       "<polygon fill=\"black\" stroke=\"black\" points=\"90.31,-205.64 94.91,-196.09 85.36,-200.69 90.31,-205.64\"/>\n",
       "</g>\n",
       "<!-- 139962943614832 -->\n",
       "<g id=\"node6\" class=\"node\">\n",
       "<title>139962943614832</title>\n",
       "<polygon fill=\"lightblue\" stroke=\"black\" points=\"80,-317 21,-317 21,-287 80,-287 80,-317\"/>\n",
       "<text text-anchor=\"middle\" x=\"50.5\" y=\"-305\" font-family=\"monospace\" font-size=\"10.00\">l1.bias</text>\n",
       "<text text-anchor=\"middle\" x=\"50.5\" y=\"-294\" font-family=\"monospace\" font-size=\"10.00\"> (3)</text>\n",
       "</g>\n",
       "<!-- 139962943614832&#45;&gt;139962943272944 -->\n",
       "<g id=\"edge4\" class=\"edge\">\n",
       "<title>139962943614832&#45;&gt;139962943272944</title>\n",
       "<path fill=\"none\" stroke=\"black\" d=\"M50.5,-286.84C50.5,-279.21 50.5,-269.7 50.5,-261.45\"/>\n",
       "<polygon fill=\"black\" stroke=\"black\" points=\"54,-261.27 50.5,-251.27 47,-261.27 54,-261.27\"/>\n",
       "</g>\n",
       "<!-- 139962943270688 -->\n",
       "<g id=\"node7\" class=\"node\">\n",
       "<title>139962943270688</title>\n",
       "<polygon fill=\"lightgrey\" stroke=\"black\" points=\"196,-251 119,-251 119,-232 196,-232 196,-251\"/>\n",
       "<text text-anchor=\"middle\" x=\"157.5\" y=\"-239\" font-family=\"monospace\" font-size=\"10.00\">TBackward0</text>\n",
       "</g>\n",
       "<!-- 139962943270688&#45;&gt;139962943265936 -->\n",
       "<g id=\"edge5\" class=\"edge\">\n",
       "<title>139962943270688&#45;&gt;139962943265936</title>\n",
       "<path fill=\"none\" stroke=\"black\" d=\"M148.58,-231.75C140.72,-224.03 129.07,-212.6 119.58,-203.28\"/>\n",
       "<polygon fill=\"black\" stroke=\"black\" points=\"121.84,-200.6 112.25,-196.09 116.94,-205.59 121.84,-200.6\"/>\n",
       "</g>\n",
       "<!-- 139962943270544 -->\n",
       "<g id=\"node8\" class=\"node\">\n",
       "<title>139962943270544</title>\n",
       "<polygon fill=\"lightgrey\" stroke=\"black\" points=\"208,-311.5 107,-311.5 107,-292.5 208,-292.5 208,-311.5\"/>\n",
       "<text text-anchor=\"middle\" x=\"157.5\" y=\"-299.5\" font-family=\"monospace\" font-size=\"10.00\">AccumulateGrad</text>\n",
       "</g>\n",
       "<!-- 139962943270544&#45;&gt;139962943270688 -->\n",
       "<g id=\"edge6\" class=\"edge\">\n",
       "<title>139962943270544&#45;&gt;139962943270688</title>\n",
       "<path fill=\"none\" stroke=\"black\" d=\"M157.5,-292.37C157.5,-284.25 157.5,-271.81 157.5,-261.39\"/>\n",
       "<polygon fill=\"black\" stroke=\"black\" points=\"161,-261.17 157.5,-251.17 154,-261.17 161,-261.17\"/>\n",
       "</g>\n",
       "<!-- 139962943606272 -->\n",
       "<g id=\"node9\" class=\"node\">\n",
       "<title>139962943606272</title>\n",
       "<polygon fill=\"lightblue\" stroke=\"black\" points=\"193,-383 122,-383 122,-353 193,-353 193,-383\"/>\n",
       "<text text-anchor=\"middle\" x=\"157.5\" y=\"-371\" font-family=\"monospace\" font-size=\"10.00\">l1.weight</text>\n",
       "<text text-anchor=\"middle\" x=\"157.5\" y=\"-360\" font-family=\"monospace\" font-size=\"10.00\"> (3, 2)</text>\n",
       "</g>\n",
       "<!-- 139962943606272&#45;&gt;139962943270544 -->\n",
       "<g id=\"edge7\" class=\"edge\">\n",
       "<title>139962943606272&#45;&gt;139962943270544</title>\n",
       "<path fill=\"none\" stroke=\"black\" d=\"M157.5,-352.8C157.5,-343.7 157.5,-331.79 157.5,-321.9\"/>\n",
       "<polygon fill=\"black\" stroke=\"black\" points=\"161,-321.84 157.5,-311.84 154,-321.84 161,-321.84\"/>\n",
       "</g>\n",
       "</g>\n",
       "</svg>\n"
      ],
      "text/plain": [
       "<graphviz.graphs.Digraph at 0x7f4ba8115900>"
      ]
     },
     "metadata": {},
     "output_type": "display_data"
    }
   ],
   "source": [
    "outputs = net(inputs_train)\n",
    "loss = criterion(outputs, labels_train)\n",
    "g = make_dot(loss, params=dict(net.named_parameters()))\n",
    "display(g)"
   ]
  },
  {
   "cell_type": "code",
   "execution_count": 17,
   "metadata": {},
   "outputs": [
    {
     "data": {
      "text/plain": [
       "tensor([0, 0, 0, 0, 0, 0, 0, 0, 0, 0, 0, 0, 0, 0, 0, 0, 0, 0, 0, 0, 0, 0, 0, 0,\n",
       "        0, 0, 0, 0, 0, 0, 0, 0, 0, 0, 0, 0, 0, 0, 0, 0, 0, 0, 0, 0, 0, 0, 0, 0,\n",
       "        0, 0, 0, 0, 0, 0, 0, 0, 0, 0, 0, 0, 0, 0, 0, 0, 0, 0, 0, 0, 0, 0, 0, 0,\n",
       "        0, 0, 0])"
      ]
     },
     "execution_count": 17,
     "metadata": {},
     "output_type": "execute_result"
    }
   ],
   "source": [
    "torch.max(outputs, 1)[1]"
   ]
  },
  {
   "cell_type": "markdown",
   "metadata": {},
   "source": [
    "torch.maxのindexesがクラス番号に対応する"
   ]
  },
  {
   "cell_type": "code",
   "execution_count": 24,
   "metadata": {},
   "outputs": [
    {
     "name": "stdout",
     "output_type": "stream",
     "text": [
      "Epoch [1/10000], Loss: 1.0986, Acc: 0.3067, Test Loss: 1.0926, Test Acc: 0.2667\n",
      "Epoch [1001/10000], Loss: 0.4546, Acc: 0.8933, Test Loss: 0.4413, Test Acc: 0.9200\n",
      "Epoch [2001/10000], Loss: 0.3687, Acc: 0.9067, Test Loss: 0.3548, Test Acc: 0.9467\n",
      "Epoch [3001/10000], Loss: 0.3214, Acc: 0.9067, Test Loss: 0.3071, Test Acc: 0.9467\n",
      "Epoch [4001/10000], Loss: 0.2905, Acc: 0.9067, Test Loss: 0.2758, Test Acc: 0.9600\n",
      "Epoch [5001/10000], Loss: 0.2688, Acc: 0.9067, Test Loss: 0.2535, Test Acc: 0.9600\n",
      "Epoch [6001/10000], Loss: 0.2527, Acc: 0.9067, Test Loss: 0.2369, Test Acc: 0.9600\n",
      "Epoch [7001/10000], Loss: 0.2403, Acc: 0.9067, Test Loss: 0.2239, Test Acc: 0.9600\n",
      "Epoch [8001/10000], Loss: 0.2305, Acc: 0.9067, Test Loss: 0.2135, Test Acc: 0.9600\n",
      "Epoch [9001/10000], Loss: 0.2225, Acc: 0.9067, Test Loss: 0.2050, Test Acc: 0.9600\n"
     ]
    }
   ],
   "source": [
    "lr = 0.01\n",
    "\n",
    "net = Net(n_input, n_output)\n",
    "\n",
    "criterion = nn.CrossEntropyLoss()\n",
    "\n",
    "optimizer = optim.SGD(net.parameters(), lr=lr)\n",
    "\n",
    "num_epochs = 10000\n",
    "\n",
    "history = np.zeros((0, 5))\n",
    "\n",
    "for epoch in range(num_epochs):\n",
    "    optimizer.zero_grad()\n",
    "\n",
    "    outputs = net(inputs_train)\n",
    "\n",
    "    loss = criterion(outputs, labels_train)\n",
    "\n",
    "    loss.backward()   # 勾配計算\n",
    "\n",
    "    optimizer.step()    # パラメータ更新\n",
    "\n",
    "    predicted = torch.max(outputs, 1)[1]\n",
    "\n",
    "    train_loss = loss.item()\n",
    "\n",
    "    train_acc = (predicted == labels_train).sum() / len(y_train)\n",
    "\n",
    "    with torch.no_grad():\n",
    "        outputs_test = net(inputs_test)\n",
    "\n",
    "        loss_test = criterion(outputs_test, labels_test)\n",
    "\n",
    "        predicted_test = torch.max(outputs_test, 1)[1]\n",
    "\n",
    "        test_loss = loss_test.item()\n",
    "\n",
    "        test_acc = (predicted_test == labels_test).sum() / len(y_test)\n",
    "\n",
    "    if epoch % 1000 == 0:\n",
    "        print(f'Epoch [{epoch+1}/{num_epochs}], Loss: {train_loss:.4f}, Acc: {train_acc:.4f}, Test Loss: {test_loss:.4f}, Test Acc: {test_acc:.4f}')\n",
    "        history = np.vstack((history, np.array([epoch, train_loss, train_acc, test_loss, test_acc])))\n"
   ]
  },
  {
   "cell_type": "code",
   "execution_count": 25,
   "metadata": {},
   "outputs": [
    {
     "name": "stdout",
     "output_type": "stream",
     "text": [
      "初期状態　損失：1.0986, 精度：0.3067\n",
      "最終状態　損失：0.2225, 精度：0.9067\n"
     ]
    }
   ],
   "source": [
    "print(f'初期状態　損失：{history[0, 1]:.4f}, 精度：{history[0, 2]:.4f}')\n",
    "print(f'最終状態　損失：{history[-1, 1]:.4f}, 精度：{history[-1, 2]:.4f}')"
   ]
  },
  {
   "cell_type": "code",
   "execution_count": 27,
   "metadata": {},
   "outputs": [
    {
     "data": {
      "text/plain": [
       "<matplotlib.legend.Legend at 0x7f4ba36e7730>"
      ]
     },
     "execution_count": 27,
     "metadata": {},
     "output_type": "execute_result"
    },
    {
     "data": {
      "image/png": "[encoded data removed]",
      "text/plain": [
       "<Figure size 640x480 with 1 Axes>"
      ]
     },
     "metadata": {},
     "output_type": "display_data"
    }
   ],
   "source": [
    "# 学習曲線の表示（損失）\n",
    "plt.plot(history[:, 0], history[:, 1], label='train_loss', c='b')\n",
    "plt.plot(history[:, 0], history[:, 3], label='test_loss', c='r')\n",
    "plt.xlabel('epoch')\n",
    "plt.ylabel('loss')\n",
    "plt.legend()"
   ]
  },
  {
   "cell_type": "code",
   "execution_count": 28,
   "metadata": {},
   "outputs": [
    {
     "data": {
      "text/plain": [
       "<matplotlib.legend.Legend at 0x7f4ba3479720>"
      ]
     },
     "execution_count": 28,
     "metadata": {},
     "output_type": "execute_result"
    },
    {
     "data": {
      "image/png": "[encoded data removed]",
      "text/plain": [
       "<Figure size 640x480 with 1 Axes>"
      ]
     },
     "metadata": {},
     "output_type": "display_data"
    }
   ],
   "source": [
    "# 学習曲線の表示（精度）\n",
    "plt.plot(history[:, 0], history[:, 2], label='train_acc', c='b')\n",
    "plt.plot(history[:, 0], history[:, 4], label='test_acc', c='r')\n",
    "plt.xlabel('epoch')\n",
    "plt.ylabel('accuracy')\n",
    "plt.legend()"
   ]
  },
  {
   "cell_type": "code",
   "execution_count": 31,
   "metadata": {},
   "outputs": [
    {
     "name": "stdout",
     "output_type": "stream",
     "text": [
      "tensor([[ 3.0452, -2.5735],\n",
      "        [ 1.3573,  0.8481],\n",
      "        [-1.4026,  4.7253]])\n",
      "tensor([ 1.7178,  1.6563, -0.3741])\n"
     ]
    }
   ],
   "source": [
    "# パラメータの確認\n",
    "print(net.l1.weight.data)\n",
    "print(net.l1.bias.data)"
   ]
  },
  {
   "cell_type": "code",
   "execution_count": 37,
   "metadata": {},
   "outputs": [
    {
     "name": "stdout",
     "output_type": "stream",
     "text": [
      "(150, 4) (150,)\n",
      "(75, 4) (75,) (75, 4) (75,)\n",
      "Epoch [1/10000], Loss: 1.0986, Acc: 0.3067, Test Loss: 1.0916, Test Acc: 0.2667\n",
      "Epoch [1001/10000], Loss: 0.3711, Acc: 0.9733, Test Loss: 0.3602, Test Acc: 0.9600\n",
      "Epoch [2001/10000], Loss: 0.2780, Acc: 0.9733, Test Loss: 0.2725, Test Acc: 0.9600\n",
      "Epoch [3001/10000], Loss: 0.2287, Acc: 0.9867, Test Loss: 0.2271, Test Acc: 0.9600\n",
      "Epoch [4001/10000], Loss: 0.1980, Acc: 0.9867, Test Loss: 0.1993, Test Acc: 0.9600\n",
      "Epoch [5001/10000], Loss: 0.1770, Acc: 0.9867, Test Loss: 0.1805, Test Acc: 0.9600\n",
      "Epoch [6001/10000], Loss: 0.1617, Acc: 0.9867, Test Loss: 0.1670, Test Acc: 0.9600\n",
      "Epoch [7001/10000], Loss: 0.1500, Acc: 0.9867, Test Loss: 0.1568, Test Acc: 0.9600\n",
      "Epoch [8001/10000], Loss: 0.1408, Acc: 0.9867, Test Loss: 0.1488, Test Acc: 0.9600\n",
      "Epoch [9001/10000], Loss: 0.1333, Acc: 0.9867, Test Loss: 0.1424, Test Acc: 0.9600\n"
     ]
    },
    {
     "data": {
      "text/plain": [
       "<matplotlib.legend.Legend at 0x7f4b9a913fa0>"
      ]
     },
     "execution_count": 37,
     "metadata": {},
     "output_type": "execute_result"
    },
    {
     "data": {
      "image/png": "[encoded data removed]",
      "text/plain": [
       "<Figure size 640x480 with 1 Axes>"
      ]
     },
     "metadata": {},
     "output_type": "display_data"
    }
   ],
   "source": [
    "# 入力データの特徴量を増やす\n",
    "print(x_org.shape, y_org.shape)\n",
    "\n",
    "x_train, x_test, y_train, y_test = train_test_split(x_org, y_org, train_size=75, test_size=75, random_state=123)\n",
    "print(x_train.shape, y_train.shape, x_test.shape, y_test.shape)\n",
    "\n",
    "inputs_train = torch.tensor(x_train).float()\n",
    "labels_train = torch.tensor(y_train).long()\n",
    "\n",
    "inputs_test = torch.tensor(x_test).float()\n",
    "labels_test = torch.tensor(y_test).long()\n",
    "\n",
    "lr = 0.01\n",
    "\n",
    "n_input = x_train.shape[1]\n",
    "n_output = len(list(set(y_train)))\n",
    "\n",
    "net = Net(n_input, n_output)\n",
    "\n",
    "criterion = nn.CrossEntropyLoss()\n",
    "\n",
    "optimizer = optim.SGD(net.parameters(), lr=lr)\n",
    "\n",
    "num_epochs = 10000\n",
    "\n",
    "history = np.zeros((0, 5))\n",
    "\n",
    "for epoch in range(num_epochs):\n",
    "    optimizer.zero_grad()\n",
    "\n",
    "    outputs = net(inputs_train)\n",
    "\n",
    "    loss = criterion(outputs, labels_train)\n",
    "\n",
    "    loss.backward()   # 勾配計算\n",
    "\n",
    "    optimizer.step()    # パラメータ更新\n",
    "\n",
    "    predicted = torch.max(outputs, 1)[1]\n",
    "\n",
    "    train_loss = loss.item()\n",
    "\n",
    "    train_acc = (predicted == labels_train).sum() / len(y_train)\n",
    "\n",
    "    with torch.no_grad():\n",
    "        outputs_test = net(inputs_test)\n",
    "\n",
    "        loss_test = criterion(outputs_test, labels_test)\n",
    "\n",
    "        predicted_test = torch.max(outputs_test, 1)[1]\n",
    "\n",
    "        test_loss = loss_test.item()\n",
    "\n",
    "        test_acc = (predicted_test == labels_test).sum() / len(y_test)\n",
    "\n",
    "    if epoch % 1000 == 0:\n",
    "        print(f'Epoch [{epoch+1}/{num_epochs}], Loss: {train_loss:.4f}, Acc: {train_acc:.4f}, Test Loss: {test_loss:.4f}, Test Acc: {test_acc:.4f}')\n",
    "        history = np.vstack((history, np.array([epoch, train_loss, train_acc, test_loss, test_acc])))\n",
    "\n",
    "# 学習曲線の表示（損失）\n",
    "plt.plot(history[:, 0], history[:, 1], label='train_loss', c='b')\n",
    "plt.plot(history[:, 0], history[:, 3], label='test_loss', c='r')\n",
    "# 学習曲線の表示（精度）\n",
    "plt.plot(history[:, 0], history[:, 2], label='train_acc', c='orange')\n",
    "plt.plot(history[:, 0], history[:, 4], label='test_acc', c='g')\n",
    "plt.xlabel('epoch')\n",
    "plt.ylabel('loss')\n",
    "plt.legend()"
   ]
  },
  {
   "cell_type": "markdown",
   "metadata": {},
   "source": [
    "入力する特徴量を増やした結果，精度は変化しなかったものの損失が減少した"
   ]
  },
  {
   "cell_type": "code",
   "execution_count": null,
   "metadata": {},
   "outputs": [],
   "source": [
    "分類は英語で"
   ]
  }
 ],
 "metadata": {
  "kernelspec": {
   "display_name": "Python 3",
   "language": "python",
   "name": "python3"
  },
  "language_info": {
   "codemirror_mode": {
    "name": "ipython",
    "version": 3
   },
   "file_extension": ".py",
   "mimetype": "text/x-python",
   "name": "python",
   "nbconvert_exporter": "python",
   "pygments_lexer": "ipython3",
   "version": "3.10.12"
  }
 },
 "nbformat": 4,
 "nbformat_minor": 2
}
